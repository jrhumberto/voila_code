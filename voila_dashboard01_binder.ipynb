{
 "cells": [
  {
   "cell_type": "code",
   "execution_count": 1,
   "id": "c6730c85-ff66-45ed-ab0a-62a9e193ba04",
   "metadata": {},
   "outputs": [
    {
     "data": {
      "application/vnd.jupyter.widget-view+json": {
       "model_id": "9161fbb2328344c59e26e3c7337c7027",
       "version_major": 2,
       "version_minor": 0
      },
      "text/plain": [
       "interactive(children=(Dropdown(description='Country:', options=('Afghanistan', 'Albania', 'Algeria', 'Angola',…"
      ]
     },
     "execution_count": 1,
     "metadata": {},
     "output_type": "execute_result"
    }
   ],
   "source": [
    "import pandas as pd\n",
    "import ipywidgets as widgets\n",
    "import matplotlib.pyplot as plt\n",
    "from IPython.display import display\n",
    "import plotly.express as px\n",
    "\n",
    "# Load dataset\n",
    "#file_path = \"WHR2023.csv\"\n",
    "csv_url = \"https://raw.githubusercontent.com/loewenj700/voila_code/refs/heads/main/WHR2023.CSV\"\n",
    "df = pd.read_csv(csv_url, delimiter=';')\n",
    "\n",
    "# Rename columns for clarity\n",
    "df_cleaned = df.rename(columns={\n",
    "    \"Country name\": \"Country\",\n",
    "    \"Life Ladder\": \"Happiness Score\",\n",
    "    \"Log GDP per capita\": \"GDP per Capita\",\n",
    "    \"Healthy life expectancy at birth\": \"Life Expectancy\",\n",
    "    \"year\": \"Year\"\n",
    "})\n",
    "\n",
    "df_cleaned.head(10)\n",
    "#### START OF VISUALIZATION CODE ####\n",
    "# Dropdown for country selection\n",
    "country_dropdown = widgets.Dropdown(\n",
    "    options=df_cleaned['Country'].unique(),\n",
    "    description='Country:',\n",
    "    style={'description_width': 'initial'}\n",
    ")\n",
    "# Function to plot data\n",
    "def plot_happiness(country):\n",
    "    country_data = df_cleaned[df_cleaned['Country'] == country]\n",
    "    \n",
    "    plt.figure(figsize=(10,5))\n",
    "    plt.plot(country_data['Year'], country_data['Happiness Score'], marker='o', linestyle='-', label='Happiness Score')\n",
    "    plt.xlabel('Year')\n",
    "    plt.ylabel('Happiness Score')\n",
    "    plt.title(f'Happiness Score Over Time: {country}')\n",
    "    plt.legend()\n",
    "    plt.grid()\n",
    "    plt.show()\n",
    "widgets.interactive(plot_happiness, country=country_dropdown)\n",
    "### END OF VISUALIZATION CODE ###"
   ]
  },
  {
   "cell_type": "code",
   "execution_count": null,
   "id": "ae2ea74f-ae07-40d2-bcce-ff0f6d027886",
   "metadata": {},
   "outputs": [],
   "source": []
  }
 ],
 "metadata": {
  "kernelspec": {
   "display_name": "Python 3 (ipykernel)",
   "language": "python",
   "name": "python3"
  },
  "language_info": {
   "codemirror_mode": {
    "name": "ipython",
    "version": 3
   },
   "file_extension": ".py",
   "mimetype": "text/x-python",
   "name": "python",
   "nbconvert_exporter": "python",
   "pygments_lexer": "ipython3",
   "version": "3.12.7"
  }
 },
 "nbformat": 4,
 "nbformat_minor": 5
}
